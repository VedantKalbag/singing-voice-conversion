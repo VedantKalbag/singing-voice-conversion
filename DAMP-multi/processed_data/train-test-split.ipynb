{
 "cells": [
  {
   "cell_type": "code",
   "execution_count": 11,
   "metadata": {},
   "outputs": [],
   "source": [
    "import os\n",
    "import numpy as np\n",
    "subdirs=[]\n",
    "filenames=[]\n",
    "paths=[]\n",
    "rootDir = 'cropped_input_10s'\n",
    "dirName, subdirList, _ = next(os.walk(rootDir))\n",
    "for subdir in subdirList:\n",
    "    _, _, fileList = next(os.walk(os.path.join(dirName,subdir)))\n",
    "    for fileName in fileList:\n",
    "        path = os.path.join(dirName, subdir, fileName)\n",
    "        filenames.append(fileName)\n",
    "        subdirs.append(subdir)\n",
    "        paths.append(path)"
   ]
  },
  {
   "cell_type": "code",
   "execution_count": 12,
   "metadata": {},
   "outputs": [
    {
     "data": {
      "text/html": [
       "<div>\n",
       "<style scoped>\n",
       "    .dataframe tbody tr th:only-of-type {\n",
       "        vertical-align: middle;\n",
       "    }\n",
       "\n",
       "    .dataframe tbody tr th {\n",
       "        vertical-align: top;\n",
       "    }\n",
       "\n",
       "    .dataframe thead th {\n",
       "        text-align: right;\n",
       "    }\n",
       "</style>\n",
       "<table border=\"1\" class=\"dataframe\">\n",
       "  <thead>\n",
       "    <tr style=\"text-align: right;\">\n",
       "      <th></th>\n",
       "      <th>subdir</th>\n",
       "      <th>filename</th>\n",
       "      <th>path</th>\n",
       "    </tr>\n",
       "  </thead>\n",
       "  <tbody>\n",
       "    <tr>\n",
       "      <th>0</th>\n",
       "      <td>d1005999639</td>\n",
       "      <td>1005999639_990605733.wav</td>\n",
       "      <td>cropped_input_10s/d1005999639/1005999639_99060...</td>\n",
       "    </tr>\n",
       "    <tr>\n",
       "      <th>1</th>\n",
       "      <td>d1005999639</td>\n",
       "      <td>1005999639_1430948660.wav</td>\n",
       "      <td>cropped_input_10s/d1005999639/1005999639_14309...</td>\n",
       "    </tr>\n",
       "    <tr>\n",
       "      <th>2</th>\n",
       "      <td>d1005999639</td>\n",
       "      <td>1005999639_1594908929.wav</td>\n",
       "      <td>cropped_input_10s/d1005999639/1005999639_15949...</td>\n",
       "    </tr>\n",
       "    <tr>\n",
       "      <th>3</th>\n",
       "      <td>d1005999639</td>\n",
       "      <td>1005999639_937335462.wav</td>\n",
       "      <td>cropped_input_10s/d1005999639/1005999639_93733...</td>\n",
       "    </tr>\n",
       "    <tr>\n",
       "      <th>4</th>\n",
       "      <td>d467064613</td>\n",
       "      <td>467064613_782661522.wav</td>\n",
       "      <td>cropped_input_10s/d467064613/467064613_7826615...</td>\n",
       "    </tr>\n",
       "    <tr>\n",
       "      <th>...</th>\n",
       "      <td>...</td>\n",
       "      <td>...</td>\n",
       "      <td>...</td>\n",
       "    </tr>\n",
       "    <tr>\n",
       "      <th>24861</th>\n",
       "      <td>d885696993</td>\n",
       "      <td>885696993_1157577537.wav</td>\n",
       "      <td>cropped_input_10s/d885696993/885696993_1157577...</td>\n",
       "    </tr>\n",
       "    <tr>\n",
       "      <th>24862</th>\n",
       "      <td>d1293938714</td>\n",
       "      <td>1293938714_1472771268.wav</td>\n",
       "      <td>cropped_input_10s/d1293938714/1293938714_14727...</td>\n",
       "    </tr>\n",
       "    <tr>\n",
       "      <th>24863</th>\n",
       "      <td>d1293938714</td>\n",
       "      <td>1293938714_1466945573.wav</td>\n",
       "      <td>cropped_input_10s/d1293938714/1293938714_14669...</td>\n",
       "    </tr>\n",
       "    <tr>\n",
       "      <th>24864</th>\n",
       "      <td>d1293938714</td>\n",
       "      <td>1293938714_1468762988.wav</td>\n",
       "      <td>cropped_input_10s/d1293938714/1293938714_14687...</td>\n",
       "    </tr>\n",
       "    <tr>\n",
       "      <th>24865</th>\n",
       "      <td>d1293938714</td>\n",
       "      <td>1293938714_1472821356.wav</td>\n",
       "      <td>cropped_input_10s/d1293938714/1293938714_14728...</td>\n",
       "    </tr>\n",
       "  </tbody>\n",
       "</table>\n",
       "<p>24866 rows × 3 columns</p>\n",
       "</div>"
      ],
      "text/plain": [
       "            subdir                   filename  \\\n",
       "0      d1005999639   1005999639_990605733.wav   \n",
       "1      d1005999639  1005999639_1430948660.wav   \n",
       "2      d1005999639  1005999639_1594908929.wav   \n",
       "3      d1005999639   1005999639_937335462.wav   \n",
       "4       d467064613    467064613_782661522.wav   \n",
       "...            ...                        ...   \n",
       "24861   d885696993   885696993_1157577537.wav   \n",
       "24862  d1293938714  1293938714_1472771268.wav   \n",
       "24863  d1293938714  1293938714_1466945573.wav   \n",
       "24864  d1293938714  1293938714_1468762988.wav   \n",
       "24865  d1293938714  1293938714_1472821356.wav   \n",
       "\n",
       "                                                    path  \n",
       "0      cropped_input_10s/d1005999639/1005999639_99060...  \n",
       "1      cropped_input_10s/d1005999639/1005999639_14309...  \n",
       "2      cropped_input_10s/d1005999639/1005999639_15949...  \n",
       "3      cropped_input_10s/d1005999639/1005999639_93733...  \n",
       "4      cropped_input_10s/d467064613/467064613_7826615...  \n",
       "...                                                  ...  \n",
       "24861  cropped_input_10s/d885696993/885696993_1157577...  \n",
       "24862  cropped_input_10s/d1293938714/1293938714_14727...  \n",
       "24863  cropped_input_10s/d1293938714/1293938714_14669...  \n",
       "24864  cropped_input_10s/d1293938714/1293938714_14687...  \n",
       "24865  cropped_input_10s/d1293938714/1293938714_14728...  \n",
       "\n",
       "[24866 rows x 3 columns]"
      ]
     },
     "execution_count": 12,
     "metadata": {},
     "output_type": "execute_result"
    }
   ],
   "source": [
    "import pandas as pd\n",
    "df=pd.DataFrame()\n",
    "df['subdir'] = subdirs\n",
    "df['filename'] = filenames\n",
    "df['path'] = paths\n",
    "df"
   ]
  },
  {
   "cell_type": "code",
   "execution_count": 13,
   "metadata": {},
   "outputs": [],
   "source": [
    "from sklearn.model_selection import train_test_split"
   ]
  },
  {
   "cell_type": "code",
   "execution_count": 18,
   "metadata": {},
   "outputs": [],
   "source": [
    "X_train, X_tmp, _ , _ = train_test_split(df, df, test_size=0.1, random_state=42)\n",
    "X_test, X_valid, _, _ = train_test_split(X_tmp, X_tmp, test_size=0.5, random_state = 42)"
   ]
  },
  {
   "cell_type": "code",
   "execution_count": 19,
   "metadata": {},
   "outputs": [
    {
     "data": {
      "text/plain": [
       "(22379, 3)"
      ]
     },
     "execution_count": 19,
     "metadata": {},
     "output_type": "execute_result"
    }
   ],
   "source": [
    "X_train.shape"
   ]
  },
  {
   "cell_type": "code",
   "execution_count": 20,
   "metadata": {},
   "outputs": [
    {
     "data": {
      "text/plain": [
       "(1243, 3)"
      ]
     },
     "execution_count": 20,
     "metadata": {},
     "output_type": "execute_result"
    }
   ],
   "source": [
    "X_test.shape"
   ]
  },
  {
   "cell_type": "code",
   "execution_count": 21,
   "metadata": {},
   "outputs": [
    {
     "data": {
      "text/plain": [
       "(1244, 3)"
      ]
     },
     "execution_count": 21,
     "metadata": {},
     "output_type": "execute_result"
    }
   ],
   "source": [
    "X_valid.shape"
   ]
  },
  {
   "cell_type": "code",
   "execution_count": 22,
   "metadata": {},
   "outputs": [],
   "source": [
    "X_train.reset_index(drop=True).to_csv('train.csv', header=True, index=False)\n",
    "X_valid.reset_index(drop=True).to_csv('valid.csv', header=True, index=False)\n",
    "X_test.reset_index(drop=True).to_csv('test.csv', header=True, index=False)"
   ]
  },
  {
   "cell_type": "code",
   "execution_count": 23,
   "metadata": {},
   "outputs": [
    {
     "data": {
      "text/html": [
       "<div>\n",
       "<style scoped>\n",
       "    .dataframe tbody tr th:only-of-type {\n",
       "        vertical-align: middle;\n",
       "    }\n",
       "\n",
       "    .dataframe tbody tr th {\n",
       "        vertical-align: top;\n",
       "    }\n",
       "\n",
       "    .dataframe thead th {\n",
       "        text-align: right;\n",
       "    }\n",
       "</style>\n",
       "<table border=\"1\" class=\"dataframe\">\n",
       "  <thead>\n",
       "    <tr style=\"text-align: right;\">\n",
       "      <th></th>\n",
       "      <th>subdir</th>\n",
       "      <th>filename</th>\n",
       "      <th>path</th>\n",
       "    </tr>\n",
       "  </thead>\n",
       "  <tbody>\n",
       "    <tr>\n",
       "      <th>23178</th>\n",
       "      <td>d40962335</td>\n",
       "      <td>40962335_1426881417.wav</td>\n",
       "      <td>cropped_input_10s/d40962335/40962335_142688141...</td>\n",
       "    </tr>\n",
       "    <tr>\n",
       "      <th>3200</th>\n",
       "      <td>d424381023</td>\n",
       "      <td>424381023_969462576.wav</td>\n",
       "      <td>cropped_input_10s/d424381023/424381023_9694625...</td>\n",
       "    </tr>\n",
       "    <tr>\n",
       "      <th>6425</th>\n",
       "      <td>d597895728</td>\n",
       "      <td>597895728_1361776038.wav</td>\n",
       "      <td>cropped_input_10s/d597895728/597895728_1361776...</td>\n",
       "    </tr>\n",
       "    <tr>\n",
       "      <th>1065</th>\n",
       "      <td>d155135810</td>\n",
       "      <td>155135810_1274301041.wav</td>\n",
       "      <td>cropped_input_10s/d155135810/155135810_1274301...</td>\n",
       "    </tr>\n",
       "    <tr>\n",
       "      <th>6685</th>\n",
       "      <td>d1013473010</td>\n",
       "      <td>1013473010_1059698511.wav</td>\n",
       "      <td>cropped_input_10s/d1013473010/1013473010_10596...</td>\n",
       "    </tr>\n",
       "    <tr>\n",
       "      <th>...</th>\n",
       "      <td>...</td>\n",
       "      <td>...</td>\n",
       "      <td>...</td>\n",
       "    </tr>\n",
       "    <tr>\n",
       "      <th>21575</th>\n",
       "      <td>d856188324</td>\n",
       "      <td>856188324_810475067.wav</td>\n",
       "      <td>cropped_input_10s/d856188324/856188324_8104750...</td>\n",
       "    </tr>\n",
       "    <tr>\n",
       "      <th>5390</th>\n",
       "      <td>d756292222</td>\n",
       "      <td>756292222_741666921.wav</td>\n",
       "      <td>cropped_input_10s/d756292222/756292222_7416669...</td>\n",
       "    </tr>\n",
       "    <tr>\n",
       "      <th>860</th>\n",
       "      <td>d133948373</td>\n",
       "      <td>133948373_1351287642.wav</td>\n",
       "      <td>cropped_input_10s/d133948373/133948373_1351287...</td>\n",
       "    </tr>\n",
       "    <tr>\n",
       "      <th>15795</th>\n",
       "      <td>d841273240</td>\n",
       "      <td>841273240_953087722.wav</td>\n",
       "      <td>cropped_input_10s/d841273240/841273240_9530877...</td>\n",
       "    </tr>\n",
       "    <tr>\n",
       "      <th>23654</th>\n",
       "      <td>d333380544</td>\n",
       "      <td>333380544_979641515.wav</td>\n",
       "      <td>cropped_input_10s/d333380544/333380544_9796415...</td>\n",
       "    </tr>\n",
       "  </tbody>\n",
       "</table>\n",
       "<p>22379 rows × 3 columns</p>\n",
       "</div>"
      ],
      "text/plain": [
       "            subdir                   filename  \\\n",
       "23178    d40962335    40962335_1426881417.wav   \n",
       "3200    d424381023    424381023_969462576.wav   \n",
       "6425    d597895728   597895728_1361776038.wav   \n",
       "1065    d155135810   155135810_1274301041.wav   \n",
       "6685   d1013473010  1013473010_1059698511.wav   \n",
       "...            ...                        ...   \n",
       "21575   d856188324    856188324_810475067.wav   \n",
       "5390    d756292222    756292222_741666921.wav   \n",
       "860     d133948373   133948373_1351287642.wav   \n",
       "15795   d841273240    841273240_953087722.wav   \n",
       "23654   d333380544    333380544_979641515.wav   \n",
       "\n",
       "                                                    path  \n",
       "23178  cropped_input_10s/d40962335/40962335_142688141...  \n",
       "3200   cropped_input_10s/d424381023/424381023_9694625...  \n",
       "6425   cropped_input_10s/d597895728/597895728_1361776...  \n",
       "1065   cropped_input_10s/d155135810/155135810_1274301...  \n",
       "6685   cropped_input_10s/d1013473010/1013473010_10596...  \n",
       "...                                                  ...  \n",
       "21575  cropped_input_10s/d856188324/856188324_8104750...  \n",
       "5390   cropped_input_10s/d756292222/756292222_7416669...  \n",
       "860    cropped_input_10s/d133948373/133948373_1351287...  \n",
       "15795  cropped_input_10s/d841273240/841273240_9530877...  \n",
       "23654  cropped_input_10s/d333380544/333380544_9796415...  \n",
       "\n",
       "[22379 rows x 3 columns]"
      ]
     },
     "execution_count": 23,
     "metadata": {},
     "output_type": "execute_result"
    }
   ],
   "source": [
    "X_train"
   ]
  },
  {
   "cell_type": "code",
   "execution_count": 24,
   "metadata": {},
   "outputs": [
    {
     "data": {
      "text/plain": [
       "'1005999639_990605733.wav'"
      ]
     },
     "execution_count": 24,
     "metadata": {},
     "output_type": "execute_result"
    }
   ],
   "source": [
    "X_train['filename'][0]"
   ]
  },
  {
   "cell_type": "code",
   "execution_count": 25,
   "metadata": {},
   "outputs": [
    {
     "data": {
      "text/plain": [
       "'d40962335'"
      ]
     },
     "execution_count": 25,
     "metadata": {},
     "output_type": "execute_result"
    }
   ],
   "source": [
    "X_train.to_numpy()[0][0]"
   ]
  },
  {
   "cell_type": "code",
   "execution_count": 26,
   "metadata": {},
   "outputs": [],
   "source": [
    "d=np.load('./pyworld/'+X_train.to_numpy()[0][0]+'.pkl', allow_pickle = True)"
   ]
  },
  {
   "cell_type": "code",
   "execution_count": 29,
   "metadata": {},
   "outputs": [
    {
     "data": {
      "text/html": [
       "<div>\n",
       "<style scoped>\n",
       "    .dataframe tbody tr th:only-of-type {\n",
       "        vertical-align: middle;\n",
       "    }\n",
       "\n",
       "    .dataframe tbody tr th {\n",
       "        vertical-align: top;\n",
       "    }\n",
       "\n",
       "    .dataframe thead th {\n",
       "        text-align: right;\n",
       "    }\n",
       "</style>\n",
       "<table border=\"1\" class=\"dataframe\">\n",
       "  <thead>\n",
       "    <tr style=\"text-align: right;\">\n",
       "      <th></th>\n",
       "      <th>filename</th>\n",
       "      <th>pathname</th>\n",
       "      <th>sp</th>\n",
       "    </tr>\n",
       "  </thead>\n",
       "  <tbody>\n",
       "    <tr>\n",
       "      <th>0</th>\n",
       "      <td>40962335_1426881417.wav</td>\n",
       "      <td>../../../DAMP-multi/processed_data/cropped_inp...</td>\n",
       "      <td>[[-4.338419971967967, 4.261623818234557, 0.401...</td>\n",
       "    </tr>\n",
       "    <tr>\n",
       "      <th>1</th>\n",
       "      <td>40962335_874940616.wav</td>\n",
       "      <td>../../../DAMP-multi/processed_data/cropped_inp...</td>\n",
       "      <td>[[-6.3113631569331625, 4.447542921534028, 1.13...</td>\n",
       "    </tr>\n",
       "    <tr>\n",
       "      <th>2</th>\n",
       "      <td>40962335_1340376545.wav</td>\n",
       "      <td>../../../DAMP-multi/processed_data/cropped_inp...</td>\n",
       "      <td>[[-4.656885218375696, 4.419491914662698, 1.058...</td>\n",
       "    </tr>\n",
       "    <tr>\n",
       "      <th>3</th>\n",
       "      <td>40962335_1511563403.wav</td>\n",
       "      <td>../../../DAMP-multi/processed_data/cropped_inp...</td>\n",
       "      <td>[[-9.17789007156608, 3.9121570331043474, 0.897...</td>\n",
       "    </tr>\n",
       "    <tr>\n",
       "      <th>4</th>\n",
       "      <td>40962335_1424313913.wav</td>\n",
       "      <td>../../../DAMP-multi/processed_data/cropped_inp...</td>\n",
       "      <td>[[-15.320653716882846, 2.9107158919332194, -1....</td>\n",
       "    </tr>\n",
       "  </tbody>\n",
       "</table>\n",
       "</div>"
      ],
      "text/plain": [
       "                  filename                                           pathname  \\\n",
       "0  40962335_1426881417.wav  ../../../DAMP-multi/processed_data/cropped_inp...   \n",
       "1   40962335_874940616.wav  ../../../DAMP-multi/processed_data/cropped_inp...   \n",
       "2  40962335_1340376545.wav  ../../../DAMP-multi/processed_data/cropped_inp...   \n",
       "3  40962335_1511563403.wav  ../../../DAMP-multi/processed_data/cropped_inp...   \n",
       "4  40962335_1424313913.wav  ../../../DAMP-multi/processed_data/cropped_inp...   \n",
       "\n",
       "                                                  sp  \n",
       "0  [[-4.338419971967967, 4.261623818234557, 0.401...  \n",
       "1  [[-6.3113631569331625, 4.447542921534028, 1.13...  \n",
       "2  [[-4.656885218375696, 4.419491914662698, 1.058...  \n",
       "3  [[-9.17789007156608, 3.9121570331043474, 0.897...  \n",
       "4  [[-15.320653716882846, 2.9107158919332194, -1....  "
      ]
     },
     "execution_count": 29,
     "metadata": {},
     "output_type": "execute_result"
    }
   ],
   "source": [
    "d"
   ]
  },
  {
   "cell_type": "code",
   "execution_count": 31,
   "metadata": {},
   "outputs": [
    {
     "data": {
      "text/plain": [
       "array([array([[-4.33841997e+00,  4.26162382e+00,  4.01785026e-01, ...,\n",
       "                6.02850056e-03, -5.59649728e-03,  2.52085620e-03],\n",
       "              [-8.30009644e+00,  8.41603961e+00, -3.50356689e+00, ...,\n",
       "               -2.49755494e-02,  2.94646906e-03,  2.96663970e-02],\n",
       "              [-8.62041179e+00,  8.74540478e+00, -3.63235729e+00, ...,\n",
       "               -3.90555390e-02,  2.02618218e-02,  8.39681276e-03],\n",
       "              ...,\n",
       "              [-1.61125746e+01,  7.72783369e+00, -3.79897744e+00, ...,\n",
       "                4.28667023e-02, -7.34712664e-02,  1.90201231e-02],\n",
       "              [-1.62287764e+01,  7.68025332e+00, -3.81572466e+00, ...,\n",
       "                7.84555115e-02, -5.64218386e-02, -1.24661839e-02],\n",
       "              [-1.36060896e+01,  3.98840319e+00, -8.39881039e-01, ...,\n",
       "                1.83930273e-02, -3.69238905e-02,  2.04137608e-02]])   ],\n",
       "      dtype=object)"
      ]
     },
     "execution_count": 31,
     "metadata": {},
     "output_type": "execute_result"
    }
   ],
   "source": [
    "d[d['filename'] == '40962335_1426881417.wav']['sp'].to_numpy()"
   ]
  },
  {
   "cell_type": "markdown",
   "metadata": {},
   "source": [
    "# TORCH DATASET"
   ]
  },
  {
   "cell_type": "code",
   "execution_count": 2,
   "metadata": {},
   "outputs": [],
   "source": [
    "from torch.utils import data\n",
    "import pandas as pd\n",
    "import numpy as np\n",
    "class DAMPDataset(data.Dataset):\n",
    "    \"\"\"Dataset class for the SpeechVocalDataset dataset.\"\"\"\n",
    "    def __init__(self, root_dir, len_crop, dataset='train'):\n",
    "        \"\"\"Initialize and preprocess the SpeechVocalDataset dataset.\"\"\"\n",
    "        # lookup_path = root_dir + '/../input_data/input_file_list.csv'\n",
    "        self.root_dir = root_dir\n",
    "        self.len_crop = len_crop\n",
    "        self.step = 10\n",
    "        # self.lookup = pd.read_csv(lookup_path, header=0)\n",
    "        # self.lookup = self.lookup.sample(frac=1) # randomly shuffle the dataset\n",
    "        if dataset == 'train':\n",
    "            self.dataset = pd.read_csv(f'{self.root_dir}/train.csv')\n",
    "        if dataset == 'valid':\n",
    "            self.dataset = pd.read_csv(f'{self.root_dir}/valid.csv')\n",
    "        if dataset == 'test':\n",
    "            self.dataset = pd.read_csv(f'{self.root_dir}/test.csv')\n",
    "        # self.valid_dataset = pd.read_pickle(f'{self.root_dir}/valid.pkl')\n",
    "        # self.dataset = self.dataset.sample(frac=1) # randomly shuffle the dataset\n",
    "        # self.train_dataset = list(dataset)\n",
    "        self.num_tokens = len(self.dataset)\n",
    "        print('Finished loading the dataset...')\n",
    "        \n",
    "    def load_data(self, dataset, i):\n",
    "        filename = dataset['filename'][i]\n",
    "        subdirname = dataset['subdir'][i]\n",
    "        d=np.load(os.path.join(self.root_dir, 'pyworld', f'{subdirname}.pkl'), allow_pickle=True)\n",
    "\n",
    "        sp_coded = d[d['filename'] == filename]['sp'].to_numpy()[0]\n",
    "        emb = np.load(os.path.join(self.root_dir, 'embeddings', f'{subdirname}.npy'))\n",
    "        return sp_coded, emb\n",
    "        # return dataset.iloc[i]['sp_coded'], dataset.iloc[i]['embedding']\n",
    "        \n",
    "    def __getitem__(self, index):\n",
    "        dataset = self.dataset#lookup\n",
    "        sp_tmp,emb = self.load_data(dataset,index)\n",
    "        if sp_tmp.shape[0] < self.len_crop:\n",
    "            len_pad = self.len_crop - sp_tmp.shape[0]\n",
    "            sp = np.pad(sp_tmp, ((0,len_pad),(0,0)), 'constant')\n",
    "        elif sp_tmp.shape[0] > self.len_crop:\n",
    "            left = np.random.randint(sp_tmp.shape[0]-self.len_crop)\n",
    "            sp = sp_tmp[left:left+self.len_crop, :]\n",
    "        else:\n",
    "            sp = sp_tmp\n",
    "\n",
    "        return sp,emb\n",
    "    def __len__(self):\n",
    "        \"\"\"Return the number of spkrs.\"\"\"\n",
    "        return self.num_tokens"
   ]
  },
  {
   "cell_type": "code",
   "execution_count": 3,
   "metadata": {},
   "outputs": [
    {
     "name": "stdout",
     "output_type": "stream",
     "text": [
      "Finished loading the dataset...\n"
     ]
    }
   ],
   "source": [
    "train_dataset = DAMPDataset(os.getcwd(), 128, 'train')"
   ]
  },
  {
   "cell_type": "code",
   "execution_count": null,
   "metadata": {},
   "outputs": [],
   "source": []
  }
 ],
 "metadata": {
  "interpreter": {
   "hash": "47fb57c1c385ef206c80ab929da73239cdb6d90f1675a67d5769b11ce7b14689"
  },
  "kernelspec": {
   "display_name": "Python 3.9.5 ('base')",
   "language": "python",
   "name": "python3"
  },
  "language_info": {
   "codemirror_mode": {
    "name": "ipython",
    "version": 3
   },
   "file_extension": ".py",
   "mimetype": "text/x-python",
   "name": "python",
   "nbconvert_exporter": "python",
   "pygments_lexer": "ipython3",
   "version": "3.9.5"
  },
  "orig_nbformat": 4
 },
 "nbformat": 4,
 "nbformat_minor": 2
}
